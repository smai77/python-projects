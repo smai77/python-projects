{
 "cells": [
  {
   "cell_type": "code",
   "execution_count": 1,
   "id": "f6cde175-7633-40f2-9af7-ea1e731d1920",
   "metadata": {},
   "outputs": [],
   "source": [
    "import os , shutil"
   ]
  },
  {
   "cell_type": "code",
   "execution_count": 15,
   "id": "214e5938-824c-467d-b1b7-d55e0f6e9cb3",
   "metadata": {},
   "outputs": [],
   "source": [
    "path = r\"C:/Users/samiu/Downloads/\""
   ]
  },
  {
   "cell_type": "code",
   "execution_count": 27,
   "id": "6d0cdd55-9cf8-4abc-81d7-16b95505d86d",
   "metadata": {},
   "outputs": [],
   "source": [
    "files_name=os.listdir(path)"
   ]
  },
  {
   "cell_type": "code",
   "execution_count": 25,
   "id": "558c0c60-3247-4ba1-a52d-14b01c6ff342",
   "metadata": {},
   "outputs": [],
   "source": [
    "folder_names = [\"csv files\",\"image files\",\"text files\"]\n",
    "\n",
    "for loop in range(0,3):\n",
    "    if not os.path.exists(path  + folder_names[loop]):\n",
    "        print(path + folder_names[loop])\n",
    "        os.makedirs(path + folder_names[loop])\n",
    "    "
   ]
  },
  {
   "cell_type": "code",
   "execution_count": 33,
   "id": "9a2ae15d-10dd-4b3c-b831-f524bb13748c",
   "metadata": {},
   "outputs": [],
   "source": [
    "for file in files_name:\n",
    "    if \".csv\" in file and not os.path.exists(path  + \"csv files/\" + file):\n",
    "        shutil.move(path + file,path  + \"csv files/\" + file)\n",
    "    elif \".png\" in file and not os.path.exists(path  + \"image files/\" + file):\n",
    "        shutil.move(path + file,path  + \"csv files/\" + file)\n",
    "    elif \".txt\" in file and not os.path.exists(path  + \"text files/\" + file):\n",
    "        shutil.move(path + file,path  + \"csv files/\" + file)"
   ]
  },
  {
   "cell_type": "code",
   "execution_count": null,
   "id": "5f4262d5-449f-4e90-ae0f-f5e4e80b01c4",
   "metadata": {},
   "outputs": [],
   "source": []
  },
  {
   "cell_type": "code",
   "execution_count": null,
   "id": "f90d898c-af03-49c6-9a58-2f2235e3918b",
   "metadata": {},
   "outputs": [],
   "source": []
  },
  {
   "cell_type": "code",
   "execution_count": null,
   "id": "940c8ad4-d152-4610-8bbb-15001ed14939",
   "metadata": {},
   "outputs": [],
   "source": []
  },
  {
   "cell_type": "code",
   "execution_count": null,
   "id": "003e2542-65fa-48d6-8b9d-963d5b00d19a",
   "metadata": {},
   "outputs": [],
   "source": []
  },
  {
   "cell_type": "code",
   "execution_count": null,
   "id": "b9124660-f4cd-44d7-afa7-59a08e3ff003",
   "metadata": {},
   "outputs": [],
   "source": []
  },
  {
   "cell_type": "code",
   "execution_count": null,
   "id": "70972728-ad72-4104-9758-4bb8b24841dd",
   "metadata": {},
   "outputs": [],
   "source": []
  },
  {
   "cell_type": "code",
   "execution_count": null,
   "id": "6fe7e25f-b4ed-4ec4-910a-9e40ca8d8ec8",
   "metadata": {},
   "outputs": [],
   "source": []
  },
  {
   "cell_type": "code",
   "execution_count": null,
   "id": "e79b02c5-fea5-4e95-8d37-6a4e4337beee",
   "metadata": {},
   "outputs": [],
   "source": []
  },
  {
   "cell_type": "code",
   "execution_count": null,
   "id": "a2eb416c-4aa7-49ac-9650-98c54634173c",
   "metadata": {},
   "outputs": [],
   "source": []
  },
  {
   "cell_type": "code",
   "execution_count": null,
   "id": "dc36d9ed-2fff-46f8-8f42-e1aaa676d2c5",
   "metadata": {},
   "outputs": [],
   "source": []
  },
  {
   "cell_type": "code",
   "execution_count": null,
   "id": "03c11bc1-9d28-42db-815f-60b872cc5d78",
   "metadata": {},
   "outputs": [],
   "source": []
  },
  {
   "cell_type": "code",
   "execution_count": null,
   "id": "9583921f-0ab4-4435-8c7e-4b8d28bafe25",
   "metadata": {},
   "outputs": [],
   "source": []
  },
  {
   "cell_type": "code",
   "execution_count": null,
   "id": "bc631fc8-cde2-4a6a-8146-e2ce06e62981",
   "metadata": {},
   "outputs": [],
   "source": []
  },
  {
   "cell_type": "code",
   "execution_count": null,
   "id": "6ef65444-d1dc-4eaa-926b-85af0ea1eaa8",
   "metadata": {},
   "outputs": [],
   "source": []
  },
  {
   "cell_type": "code",
   "execution_count": null,
   "id": "efb272be-fe18-4aaa-af23-7c798c8c5455",
   "metadata": {},
   "outputs": [],
   "source": []
  },
  {
   "cell_type": "code",
   "execution_count": null,
   "id": "26948fea-3866-4ea8-bf85-ad990c07d9ba",
   "metadata": {},
   "outputs": [],
   "source": []
  },
  {
   "cell_type": "code",
   "execution_count": null,
   "id": "4909a90e-64a8-4fad-ae32-5a446addcc9e",
   "metadata": {},
   "outputs": [],
   "source": []
  },
  {
   "cell_type": "code",
   "execution_count": null,
   "id": "2b79d9f1-fd61-49f1-b881-e26cd84fdada",
   "metadata": {},
   "outputs": [],
   "source": []
  }
 ],
 "metadata": {
  "kernelspec": {
   "display_name": "Python [conda env:base] *",
   "language": "python",
   "name": "conda-base-py"
  },
  "language_info": {
   "codemirror_mode": {
    "name": "ipython",
    "version": 3
   },
   "file_extension": ".py",
   "mimetype": "text/x-python",
   "name": "python",
   "nbconvert_exporter": "python",
   "pygments_lexer": "ipython3",
   "version": "3.12.7"
  }
 },
 "nbformat": 4,
 "nbformat_minor": 5
}
